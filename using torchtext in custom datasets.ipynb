{
 "cells": [
  {
   "cell_type": "code",
   "execution_count": 179,
   "metadata": {},
   "outputs": [],
   "source": [
    "import torch #importing torch\n",
    "from torchtext import data #loading data \n",
    "import pandas as pd #loading pandas \n",
    "import torch.nn as nn #loading models\n",
    "\n",
    "import spacy #loading spacy\n",
    "from spacy.lang.en.stop_words import STOP_WORDS #loading stopwords"
   ]
  },
  {
   "cell_type": "code",
   "execution_count": 180,
   "metadata": {},
   "outputs": [],
   "source": [
    "nlp = spacy.load('en_core_web_sm')"
   ]
  },
  {
   "cell_type": "markdown",
   "metadata": {},
   "source": [
    "# Reading CSV/TSV"
   ]
  },
  {
   "cell_type": "markdown",
   "metadata": {},
   "source": [
    "## First define fields"
   ]
  },
  {
   "cell_type": "code",
   "execution_count": 181,
   "metadata": {},
   "outputs": [],
   "source": [
    "# we are reading a imdb dataset"
   ]
  },
  {
   "cell_type": "code",
   "execution_count": 182,
   "metadata": {},
   "outputs": [
    {
     "name": "stderr",
     "output_type": "stream",
     "text": [
      "F:\\anaconda\\lib\\site-packages\\torchtext\\data\\field.py:150: UserWarning: Field class will be retired in the 0.8.0 release and moved to torchtext.legacy. Please see 0.7.0 release notes for further information.\n",
      "  warnings.warn('{} class will be retired in the 0.8.0 release and moved to torchtext.legacy. Please see 0.7.0 release notes for further information.'.format(self.__class__.__name__), UserWarning)\n",
      "F:\\anaconda\\lib\\site-packages\\torchtext\\data\\field.py:150: UserWarning: LabelField class will be retired in the 0.8.0 release and moved to torchtext.legacy. Please see 0.7.0 release notes for further information.\n",
      "  warnings.warn('{} class will be retired in the 0.8.0 release and moved to torchtext.legacy. Please see 0.7.0 release notes for further information.'.format(self.__class__.__name__), UserWarning)\n"
     ]
    }
   ],
   "source": [
    "REVIEW = data.Field(tokenize='spacy' ,stop_words=STOP_WORDS ) #we have used STOPWORDS from spacy\n",
    "SENTIMENT = data.LabelField(dtype=torch.float) #change the label into numerical"
   ]
  },
  {
   "cell_type": "code",
   "execution_count": 183,
   "metadata": {},
   "outputs": [],
   "source": [
    "#read the dataset\n",
    "df = pd.read_csv('IMDB Dataset.csv')"
   ]
  },
  {
   "cell_type": "code",
   "execution_count": 184,
   "metadata": {},
   "outputs": [
    {
     "data": {
      "text/html": [
       "<div>\n",
       "<style scoped>\n",
       "    .dataframe tbody tr th:only-of-type {\n",
       "        vertical-align: middle;\n",
       "    }\n",
       "\n",
       "    .dataframe tbody tr th {\n",
       "        vertical-align: top;\n",
       "    }\n",
       "\n",
       "    .dataframe thead th {\n",
       "        text-align: right;\n",
       "    }\n",
       "</style>\n",
       "<table border=\"1\" class=\"dataframe\">\n",
       "  <thead>\n",
       "    <tr style=\"text-align: right;\">\n",
       "      <th></th>\n",
       "      <th>review</th>\n",
       "      <th>sentiment</th>\n",
       "    </tr>\n",
       "  </thead>\n",
       "  <tbody>\n",
       "    <tr>\n",
       "      <th>0</th>\n",
       "      <td>One of the other reviewers has mentioned that ...</td>\n",
       "      <td>positive</td>\n",
       "    </tr>\n",
       "    <tr>\n",
       "      <th>1</th>\n",
       "      <td>A wonderful little production. &lt;br /&gt;&lt;br /&gt;The...</td>\n",
       "      <td>positive</td>\n",
       "    </tr>\n",
       "    <tr>\n",
       "      <th>2</th>\n",
       "      <td>I thought this was a wonderful way to spend ti...</td>\n",
       "      <td>positive</td>\n",
       "    </tr>\n",
       "    <tr>\n",
       "      <th>3</th>\n",
       "      <td>Basically there's a family where a little boy ...</td>\n",
       "      <td>negative</td>\n",
       "    </tr>\n",
       "    <tr>\n",
       "      <th>4</th>\n",
       "      <td>Petter Mattei's \"Love in the Time of Money\" is...</td>\n",
       "      <td>positive</td>\n",
       "    </tr>\n",
       "  </tbody>\n",
       "</table>\n",
       "</div>"
      ],
      "text/plain": [
       "                                              review sentiment\n",
       "0  One of the other reviewers has mentioned that ...  positive\n",
       "1  A wonderful little production. <br /><br />The...  positive\n",
       "2  I thought this was a wonderful way to spend ti...  positive\n",
       "3  Basically there's a family where a little boy ...  negative\n",
       "4  Petter Mattei's \"Love in the Time of Money\" is...  positive"
      ]
     },
     "execution_count": 184,
     "metadata": {},
     "output_type": "execute_result"
    }
   ],
   "source": [
    "#show top 5 data\n",
    "df.head()"
   ]
  },
  {
   "cell_type": "code",
   "execution_count": 185,
   "metadata": {},
   "outputs": [],
   "source": [
    "#split the dataset randomly\n",
    "from sklearn.model_selection import train_test_split\n",
    "\n",
    "#split the dataframe into train and test\n",
    "train, test = train_test_split(df, test_size=0.2 , random_state=42,shuffle=True)"
   ]
  },
  {
   "cell_type": "code",
   "execution_count": 141,
   "metadata": {},
   "outputs": [],
   "source": [
    "#now save the dataset as train and test\n",
    "\n",
    "train.to_csv('train.csv',index=False)\n",
    "test.to_csv('test.csv',index=False)"
   ]
  },
  {
   "cell_type": "code",
   "execution_count": 186,
   "metadata": {},
   "outputs": [],
   "source": [
    "#now we have to give it the fields we have inside the dataset\n",
    "\n",
    "\n",
    "fields =[('review' , REVIEW) , ('sentiment' , SENTIMENT)]"
   ]
  },
  {
   "cell_type": "code",
   "execution_count": 187,
   "metadata": {},
   "outputs": [
    {
     "name": "stderr",
     "output_type": "stream",
     "text": [
      "F:\\anaconda\\lib\\site-packages\\torchtext\\data\\example.py:68: UserWarning: Example class will be retired in the 0.8.0 release and moved to torchtext.legacy. Please see 0.7.0 release notes for further information.\n",
      "  warnings.warn('Example class will be retired in the 0.8.0 release and moved to torchtext.legacy. Please see 0.7.0 release notes for further information.', UserWarning)\n",
      "F:\\anaconda\\lib\\site-packages\\torchtext\\data\\example.py:78: UserWarning: Example class will be retired in the 0.8.0 release and moved to torchtext.legacy. Please see 0.7.0 release notes for further information.\n",
      "  warnings.warn('Example class will be retired in the 0.8.0 release and moved to torchtext.legacy. Please see 0.7.0 release notes for further information.', UserWarning)\n"
     ]
    }
   ],
   "source": [
    "#now split the data\n",
    "\n",
    "#we will use the saved dataset here\n",
    "train_data , test_data = data.TabularDataset.splits(\n",
    "                                        path = '',\n",
    "                                        train = 'train.csv',\n",
    "                                        validation = None,\n",
    "                                        test = 'test.csv',\n",
    "                                        format = 'csv',\n",
    "                                        fields = fields,\n",
    "                                        skip_header = True\n",
    ")"
   ]
  },
  {
   "cell_type": "code",
   "execution_count": 188,
   "metadata": {},
   "outputs": [
    {
     "name": "stdout",
     "output_type": "stream",
     "text": [
      "{'review': ['That', 'I', 'kept', 'asking', 'fights', ',', 'screaming', 'matches', ',', 'swearing', 'general', 'mayhem', 'permeate', '84', 'minutes', '.', 'The', 'comparisons', 'stand', 'think', '-', 'dimensional', 'characters', ',', 'little', 'depth', 'virtually', 'impossible', 'care', 'happens', '.', 'They', 'badly', 'written', 'cyphers', 'director', 'hang', 'multicultural', 'beliefs', ',', 'topic', 'better', 'dramas', 'TV', 'cinema.<br', '/><br', '/>I', 'confess', ',', 'I', 'spotting', 'bad', 'performances', 'film', ',', 'said', 'Nichola', 'Burley', '(', 'heroine', 'slutty', 'best', 'friend', ')', 'Wasim', 'Zakir', '(', 'nasty', ',', 'bullying', 'brother', ')', 'absolutely', 'terrible', '.', 'I', 'know', 'acting', 'school', 'graduated', ',', 'I', 'I', 'apply', 'refund', 'post', 'haste', '.', 'Only', 'Samina', 'Awan', 'lead', 'role', 'manages', 'impress', 'cast', '-', 'called', 'British', 'talent', 'probably', 'hear', '.', 'At', ',', 'hope', '.', 'Next', 'time', ',', 'hire', 'different', 'scout.<br', '/><br', '/>Another', 'intriguing', 'thought', 'hideously', 'fashionable', 'soundtrack', 'featuring', 'likes', 'Snow', 'Patrol', ',', 'Ian', 'Brown', 'Keane', '.', 'Now', ',', 'I', 'bit', 'music', 'fan', 'I', 'familiar', 'artists', 'output', ',', 'I', 'recognise', 'tracks', 'movie', '(', 'apart', 'omnipresent', '\"', 'Run', '\"', ')', '.', 'B', '-', 'sides', ',', '?', 'We', ',', 'musical', 'montages', 'telegraph', 'suppose', 'feel', '.', 'These', 'accompanied', 'startlingly', 'original', 'images', 'couples', 'kissing', 'swollen', 'lake', 'canoodling', 'doorways', '.', 'This', 'problem', ',', 'songs', 'convey', 'mood', 'efficiently', ',', 'realise', 'director', 'lacks', 'ability', 'carry', 'emotional', 'journey', 'audience', 'storytelling', 'dialogue', 'alone.<br', '/><br', '/>The', 'ending', 'presumably', 'meant', 'desserts', ',', 'everybody', 'gets', 'comeuppance', 'big', 'shock', 'store', '..', 'But', 'I', 'remained', 'resolutely', 'unmoved', 'script', 'given', '-', 'root', '.', 'It', 'tackle', 'hot', '-', 'button', 'issue', ',', 'actually', 'plot', 'death', 'individuals', 'window', 'dressing', '.', 'As', 'stands', ',', 'film', 'noble', 'failure', ',', 'promising', 'lead', 'actress', 'mildly', 'diverting', 'punch', '-', 'ups', 'save', 'bin', '.', '4/10', '.', 'Must', 'try', 'harder', '..'], 'sentiment': 'negative'}\n"
     ]
    }
   ],
   "source": [
    "print(vars(train_data[0])) #check data"
   ]
  },
  {
   "cell_type": "code",
   "execution_count": 189,
   "metadata": {},
   "outputs": [
    {
     "name": "stdout",
     "output_type": "stream",
     "text": [
      "Number of training examples: 40000\n",
      "Number of testing examples: 10000\n"
     ]
    }
   ],
   "source": [
    "print(f'Number of training examples: {len(train_data)}') #print the length of the data\n",
    "print(f'Number of testing examples: {len(test_data)}')"
   ]
  },
  {
   "cell_type": "code",
   "execution_count": null,
   "metadata": {},
   "outputs": [],
   "source": []
  },
  {
   "cell_type": "code",
   "execution_count": null,
   "metadata": {},
   "outputs": [],
   "source": []
  },
  {
   "cell_type": "code",
   "execution_count": null,
   "metadata": {},
   "outputs": [],
   "source": []
  }
 ],
 "metadata": {
  "kernelspec": {
   "display_name": "Python 3",
   "language": "python",
   "name": "python3"
  },
  "language_info": {
   "codemirror_mode": {
    "name": "ipython",
    "version": 3
   },
   "file_extension": ".py",
   "mimetype": "text/x-python",
   "name": "python",
   "nbconvert_exporter": "python",
   "pygments_lexer": "ipython3",
   "version": "3.8.3"
  }
 },
 "nbformat": 4,
 "nbformat_minor": 4
}
